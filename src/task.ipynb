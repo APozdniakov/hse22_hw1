{
 "cells": [
  {
   "cell_type": "code",
   "execution_count": 1,
   "outputs": [],
   "source": [
    "from re import sub as regexp_replace\n",
    "from typing import Dict, NoReturn"
   ],
   "metadata": {
    "collapsed": false
   }
  },
  {
   "cell_type": "code",
   "execution_count": 2,
   "outputs": [],
   "source": [
    "def get_info(filename: str, just_max_seq: bool = False) -> Dict:\n",
    "    lengths, max_seq = [], \"\"\n",
    "    with open(filename, 'r') as file:\n",
    "        for line in file:\n",
    "            if line[0] == '>':\n",
    "                cur_seq = \"\"\n",
    "                lengths.append(0)\n",
    "            else:\n",
    "                cur_seq += line.strip()\n",
    "                if len(max_seq) < len(cur_seq):\n",
    "                    max_seq = cur_seq\n",
    "                lengths[-1] = len(cur_seq)\n",
    "    if just_max_seq:\n",
    "        return {\"Самый длинный\": max_seq}\n",
    "    lengths.sort(reverse=True)\n",
    "\n",
    "    score, total_len = 0, sum(lengths)\n",
    "    for length in lengths:\n",
    "        score += length\n",
    "        if score >= total_len / 2:\n",
    "            return {\n",
    "                \"Общее количество\" : len(lengths),\n",
    "                \"Общая длина\" : sum(lengths),\n",
    "                \"Длина самого длинного\": len(max_seq),\n",
    "                \"N50\": length\n",
    "            }\n",
    "\n",
    "def get_gap_info(filename: str) -> Dict:\n",
    "    seq: str = get_info(filename, just_max_seq=True)[\"Самый длинный\"]\n",
    "    return {\n",
    "        \"Общая длина гэпов\": seq.count('N'),\n",
    "        \"Число гэпов\": regexp_replace(r'N{2,}', 'N', seq).count('N')\n",
    "    }"
   ],
   "metadata": {
    "collapsed": false
   }
  },
  {
   "cell_type": "code",
   "execution_count": 3,
   "outputs": [],
   "source": [
    "def print_info(label: str, info: Dict) -> NoReturn:\n",
    "    print(f'Анализ {label}')\n",
    "    for key, value in info.items():\n",
    "        if key != \"Самый длинный\":\n",
    "            print(f'{key}: {value}')\n",
    "    print()\n",
    "\n",
    "def print_all(data_dir: str) -> NoReturn:\n",
    "    # Информация о контигах\n",
    "    print_info(\"контигов\", get_info(data_dir + \"out_contig.fa\"))\n",
    "    # Информация о скаффолдах\n",
    "    print_info(\"скаффолдов\", get_info(data_dir + \"out_scaffold.fa\"))\n",
    "    # Подсчет гэпов для необрезанных чтений\n",
    "    print_info(\"гэпов\", get_gap_info(data_dir + \"out_scaffold.fa\"))\n",
    "    # Подсчет гэпов для обрезанных чтений\n",
    "    print_info(\"гэпов для обрезанных чтений\", get_gap_info(data_dir + \"out_gapClosed.fa\"))"
   ],
   "metadata": {
    "collapsed": false
   }
  },
  {
   "cell_type": "markdown",
   "source": [
    "## Информация о чтениях"
   ],
   "metadata": {
    "collapsed": false
   }
  },
  {
   "cell_type": "code",
   "execution_count": 4,
   "outputs": [
    {
     "name": "stdout",
     "output_type": "stream",
     "text": [
      "Анализ контигов\n",
      "Общее количество: 610\n",
      "Общая длина: 3925489\n",
      "Длина самого длинного: 135087\n",
      "N50: 49847\n",
      "\n",
      "Анализ скаффолдов\n",
      "Общее количество: 70\n",
      "Общая длина: 3873447\n",
      "Длина самого длинного: 3831816\n",
      "N50: 3831816\n",
      "\n",
      "Анализ гэпов\n",
      "Общая длина гэпов: 6131\n",
      "Число гэпов: 61\n",
      "\n",
      "Анализ гэпов для обрезанных чтений\n",
      "Общая длина гэпов: 2117\n",
      "Число гэпов: 10\n",
      "\n"
     ]
    }
   ],
   "source": [
    "print_all(\"../data/\")"
   ],
   "metadata": {
    "collapsed": false
   }
  }
 ],
 "metadata": {
  "kernelspec": {
   "display_name": "Python 3",
   "language": "python",
   "name": "python3"
  },
  "language_info": {
   "codemirror_mode": {
    "name": "ipython",
    "version": 2
   },
   "file_extension": ".py",
   "mimetype": "text/x-python",
   "name": "python",
   "nbconvert_exporter": "python",
   "pygments_lexer": "ipython2",
   "version": "2.7.6"
  }
 },
 "nbformat": 4,
 "nbformat_minor": 0
}
